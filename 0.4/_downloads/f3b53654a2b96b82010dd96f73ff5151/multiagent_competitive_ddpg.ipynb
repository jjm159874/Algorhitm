{
  "cells": [
    {
      "cell_type": "markdown",
      "metadata": {
        "id": "YB21tGGFSpPu"
      },
      "source": [
        "\n",
        "# Competitive Multi-Agent Reinforcement Learning (DDPG) with TorchRL Tutorial\n",
        "**Author**: [Matteo Bettini](https://github.com/matteobettini)\n",
        "\n",
        "This tutorial demonstrates how to use PyTorch and TorchRL to\n",
        "solve a Competitive Multi-Agent Reinforcement Learning (MARL) problem.\n",
        "\n",
        "For ease of use, this tutorial will follow the general structure of the already available :doc:`/tutorials/multiagent_ppo`.\n",
        "\n",
        "In this tutorial, we will use the *simple_tag* environment from the\n",
        "[MADDPG paper](https://arxiv.org/abs/1706.02275)_. This environment is part\n",
        "of a set called [MultiAgentParticleEnvironments (MPE)](https://github.com/openai/multiagent-particle-envs)_\n",
        "introduced with the paper.\n",
        "\n",
        "There are currently multiple simulators providing MPE environments.\n",
        "In this tutorial we show how to train this environment in TorchRL using either:\n",
        "\n",
        "- [PettingZoo](https://pettingzoo.farama.org/)_, in the traditional CPU version of the environment;\n",
        "- [VMAS](https://github.com/proroklab/VectorizedMultiAgentSimulator)_, which provides a vectorized implementation in PyTorch,\n",
        "  able to simulate multiple environments on a GPU to speed up computation.\n",
        "\n",
        ".. figure:: https://github.com/matteobettini/vmas-media/blob/main/media/scenarios/simple_tag.gif?raw=true\n",
        "   :alt: Simple tag\n",
        "\n",
        "   Multi-agent *simple_tag* scenario\n",
        "\n",
        "Key learnings:\n",
        "\n",
        "- How to use competitive multi-agent environments in TorchRL, how their specs work, and how they integrate with the library;\n",
        "- How to use Parallel PettingZoo and VMAS environments with multiple agent groups in TorchRL;\n",
        "- How to create different multi-agent network architectures in TorchRL (e.g., using parameter sharing, centralised critic)\n",
        "- How we can use :class:`~tensordict.TensorDict` to carry multi-agent multi-group data;\n",
        "- How we can tie all the library components (collectors, modules, replay buffers, and losses) in an off-policy multi-agent MADDPG/IDDPG training loop.\n"
      ]
    },
    {
      "cell_type": "markdown",
      "metadata": {
        "id": "H9n-SBzkSpPx"
      },
      "source": [
        "If you are running this in Google Colab, make sure you install the following dependencies:\n",
        "\n",
        "```bash\n",
        "!pip3 install torchrl\n",
        "!pip3 install vmas\n",
        "!pip3 install pettingzoo[mpe]==1.24.3\n",
        "!pip3 install tqdm\n",
        "```\n",
        "Deep Deterministic Policy Gradient (DDPG) is an off-policy actor-critic algorithm\n",
        "where a deterministic policy is optimised using the gradients from the critic network.\n",
        "For more information, see the [Deep Deterministic Policy Gradients](https://arxiv.org/abs/1509.02971) paper.\n",
        "This kind of algorithm is typicall trained off-policy. For more info on off-policy learning see\n",
        "*Sutton, Richard S., and Andrew G. Barto. Reinforcement learning: An introduction. MIT press, 2018*.\n",
        "\n",
        ".. figure:: https://pytorch.s3.amazonaws.com/torchrl/github-artifacts/img/off-policy-vmas-loop-min.png\n",
        "   :alt: Off-policy learning\n",
        "\n",
        "   Off-policy learning\n",
        "\n",
        "This approach has been extended to multi-agent learning in [Multi-Agent Actor-Critic for Mixed Cooperative-Competitive Environments](https://arxiv.org/abs/1706.02275)_,\n",
        "which introduces the Multi Agent DDPG (MADDPG) algorithm.\n",
        "In multi-agent settings, things are a bit different. We now have multiple policies $\\mathbf{\\pi}$,\n",
        "one for each agent. Policies are typically local and decentralised. This means that\n",
        "the policy for a single agent will output an action for that agent based only on its observation.\n",
        "In the MARL literature, this is referred to as **decentralised execution**.\n",
        "On the other hand, different formulations exist for the critic, mainly:\n",
        "\n",
        "- In [MADDPG](https://arxiv.org/abs/1706.02275) the critic is centralised and takes as input the global state and global action\n",
        "  of the system. The global state can be a global observation or simply the concatenation of the agents' observation.\n",
        "  The global action is the concatenation of agent actions. MADDPG\n",
        "  can be used in contexts where **centralised training** is performed as it needs access to global information.\n",
        "- In IDDPG, the critic takes as input just the observation and action of one agent.\n",
        "  This allows **decentralised training** as both the critic and the policy will only need local\n",
        "  information to compute their outputs.\n",
        "\n",
        "Centralised critics help overcome the non-stationary of multiple agents learning concurrently, but,\n",
        "on the other hand, they may be impacted by their large input space.\n",
        "In this tutorial, we will be able to train both formulations, and we will also discuss how\n",
        "parameter-sharing (the practice of sharing the network parameters across the agents) impacts each.\n",
        "\n",
        "The structure of this tutorial is as follows:\n",
        "\n",
        "1. Initially, we will establish a set of hyperparameters for use.\n",
        "\n",
        "2. Subsequently, we will construct a multi-agent environment, utilizing TorchRL's\n",
        "   wrapper for either PettingZoo or VMAS.\n",
        "\n",
        "3. Following that, we will formulate the policy and critic networks, discussing the effects of various choices on\n",
        "   parameter sharing and critic centralisation.\n",
        "\n",
        "4. Afterwards, we will create the sampling collector and the replay buffer.\n",
        "\n",
        "5. In the end, we will execute our training loop and examine the outcomes.\n",
        "\n",
        "If you are operating this in Colab or on a machine with a GUI, you will also have the opportunity\n",
        "to render and visualize your own trained policy before and after the training process.\n",
        "\n",
        "Import our dependencies:\n",
        "\n",
        "\n"
      ]
    },
    {
      "cell_type": "code",
      "source": [
        "!pip3 install torchrl\n",
        "!pip3 install vmas\n",
        "!pip3 install pettingzoo[mpe]==1.24.3\n",
        "!pip3 install tqdm"
      ],
      "metadata": {
        "id": "7_ny1-LwS8uY",
        "outputId": "b5ce2a23-07b1-4df1-d74b-c50ba6d4ef74",
        "colab": {
          "base_uri": "https://localhost:8080/"
        }
      },
      "execution_count": 1,
      "outputs": [
        {
          "output_type": "stream",
          "name": "stdout",
          "text": [
            "Requirement already satisfied: torchrl in /usr/local/lib/python3.11/dist-packages (0.7.0)\n",
            "Requirement already satisfied: torch>=2.6.0 in /usr/local/lib/python3.11/dist-packages (from torchrl) (2.6.0)\n",
            "Requirement already satisfied: numpy in /usr/local/lib/python3.11/dist-packages (from torchrl) (2.2.2)\n",
            "Requirement already satisfied: packaging in /usr/local/lib/python3.11/dist-packages (from torchrl) (24.2)\n",
            "Requirement already satisfied: cloudpickle in /usr/local/lib/python3.11/dist-packages (from torchrl) (3.1.1)\n",
            "Requirement already satisfied: tensordict>=0.7.0 in /usr/local/lib/python3.11/dist-packages (from torchrl) (0.7.0)\n",
            "Requirement already satisfied: orjson in /usr/local/lib/python3.11/dist-packages (from tensordict>=0.7.0->torchrl) (3.10.15)\n",
            "Requirement already satisfied: filelock in /usr/local/lib/python3.11/dist-packages (from torch>=2.6.0->torchrl) (3.17.0)\n",
            "Requirement already satisfied: typing-extensions>=4.10.0 in /usr/local/lib/python3.11/dist-packages (from torch>=2.6.0->torchrl) (4.12.2)\n",
            "Requirement already satisfied: networkx in /usr/local/lib/python3.11/dist-packages (from torch>=2.6.0->torchrl) (3.4.2)\n",
            "Requirement already satisfied: jinja2 in /usr/local/lib/python3.11/dist-packages (from torch>=2.6.0->torchrl) (3.1.5)\n",
            "Requirement already satisfied: fsspec in /usr/local/lib/python3.11/dist-packages (from torch>=2.6.0->torchrl) (2025.2.0)\n",
            "Requirement already satisfied: nvidia-cuda-nvrtc-cu12==12.4.127 in /usr/local/lib/python3.11/dist-packages (from torch>=2.6.0->torchrl) (12.4.127)\n",
            "Requirement already satisfied: nvidia-cuda-runtime-cu12==12.4.127 in /usr/local/lib/python3.11/dist-packages (from torch>=2.6.0->torchrl) (12.4.127)\n",
            "Requirement already satisfied: nvidia-cuda-cupti-cu12==12.4.127 in /usr/local/lib/python3.11/dist-packages (from torch>=2.6.0->torchrl) (12.4.127)\n",
            "Requirement already satisfied: nvidia-cudnn-cu12==9.1.0.70 in /usr/local/lib/python3.11/dist-packages (from torch>=2.6.0->torchrl) (9.1.0.70)\n",
            "Requirement already satisfied: nvidia-cublas-cu12==12.4.5.8 in /usr/local/lib/python3.11/dist-packages (from torch>=2.6.0->torchrl) (12.4.5.8)\n",
            "Requirement already satisfied: nvidia-cufft-cu12==11.2.1.3 in /usr/local/lib/python3.11/dist-packages (from torch>=2.6.0->torchrl) (11.2.1.3)\n",
            "Requirement already satisfied: nvidia-curand-cu12==10.3.5.147 in /usr/local/lib/python3.11/dist-packages (from torch>=2.6.0->torchrl) (10.3.5.147)\n",
            "Requirement already satisfied: nvidia-cusolver-cu12==11.6.1.9 in /usr/local/lib/python3.11/dist-packages (from torch>=2.6.0->torchrl) (11.6.1.9)\n",
            "Requirement already satisfied: nvidia-cusparse-cu12==12.3.1.170 in /usr/local/lib/python3.11/dist-packages (from torch>=2.6.0->torchrl) (12.3.1.170)\n",
            "Requirement already satisfied: nvidia-cusparselt-cu12==0.6.2 in /usr/local/lib/python3.11/dist-packages (from torch>=2.6.0->torchrl) (0.6.2)\n",
            "Requirement already satisfied: nvidia-nccl-cu12==2.21.5 in /usr/local/lib/python3.11/dist-packages (from torch>=2.6.0->torchrl) (2.21.5)\n",
            "Requirement already satisfied: nvidia-nvtx-cu12==12.4.127 in /usr/local/lib/python3.11/dist-packages (from torch>=2.6.0->torchrl) (12.4.127)\n",
            "Requirement already satisfied: nvidia-nvjitlink-cu12==12.4.127 in /usr/local/lib/python3.11/dist-packages (from torch>=2.6.0->torchrl) (12.4.127)\n",
            "Requirement already satisfied: triton==3.2.0 in /usr/local/lib/python3.11/dist-packages (from torch>=2.6.0->torchrl) (3.2.0)\n",
            "Requirement already satisfied: sympy==1.13.1 in /usr/local/lib/python3.11/dist-packages (from torch>=2.6.0->torchrl) (1.13.1)\n",
            "Requirement already satisfied: mpmath<1.4,>=1.1.0 in /usr/local/lib/python3.11/dist-packages (from sympy==1.13.1->torch>=2.6.0->torchrl) (1.3.0)\n",
            "Requirement already satisfied: MarkupSafe>=2.0 in /usr/local/lib/python3.11/dist-packages (from jinja2->torch>=2.6.0->torchrl) (3.0.2)\n",
            "Requirement already satisfied: vmas in /usr/local/lib/python3.11/dist-packages (1.5.0)\n",
            "Requirement already satisfied: numpy in /usr/local/lib/python3.11/dist-packages (from vmas) (2.2.2)\n",
            "Requirement already satisfied: torch in /usr/local/lib/python3.11/dist-packages (from vmas) (2.6.0)\n",
            "Requirement already satisfied: pyglet<=1.5.27 in /usr/local/lib/python3.11/dist-packages (from vmas) (1.5.27)\n",
            "Requirement already satisfied: gym in /usr/local/lib/python3.11/dist-packages (from vmas) (0.25.2)\n",
            "Requirement already satisfied: six in /usr/local/lib/python3.11/dist-packages (from vmas) (1.17.0)\n",
            "Requirement already satisfied: cloudpickle>=1.2.0 in /usr/local/lib/python3.11/dist-packages (from gym->vmas) (3.1.1)\n",
            "Requirement already satisfied: gym_notices>=0.0.4 in /usr/local/lib/python3.11/dist-packages (from gym->vmas) (0.0.8)\n",
            "Requirement already satisfied: filelock in /usr/local/lib/python3.11/dist-packages (from torch->vmas) (3.17.0)\n",
            "Requirement already satisfied: typing-extensions>=4.10.0 in /usr/local/lib/python3.11/dist-packages (from torch->vmas) (4.12.2)\n",
            "Requirement already satisfied: networkx in /usr/local/lib/python3.11/dist-packages (from torch->vmas) (3.4.2)\n",
            "Requirement already satisfied: jinja2 in /usr/local/lib/python3.11/dist-packages (from torch->vmas) (3.1.5)\n",
            "Requirement already satisfied: fsspec in /usr/local/lib/python3.11/dist-packages (from torch->vmas) (2025.2.0)\n",
            "Requirement already satisfied: nvidia-cuda-nvrtc-cu12==12.4.127 in /usr/local/lib/python3.11/dist-packages (from torch->vmas) (12.4.127)\n",
            "Requirement already satisfied: nvidia-cuda-runtime-cu12==12.4.127 in /usr/local/lib/python3.11/dist-packages (from torch->vmas) (12.4.127)\n",
            "Requirement already satisfied: nvidia-cuda-cupti-cu12==12.4.127 in /usr/local/lib/python3.11/dist-packages (from torch->vmas) (12.4.127)\n",
            "Requirement already satisfied: nvidia-cudnn-cu12==9.1.0.70 in /usr/local/lib/python3.11/dist-packages (from torch->vmas) (9.1.0.70)\n",
            "Requirement already satisfied: nvidia-cublas-cu12==12.4.5.8 in /usr/local/lib/python3.11/dist-packages (from torch->vmas) (12.4.5.8)\n",
            "Requirement already satisfied: nvidia-cufft-cu12==11.2.1.3 in /usr/local/lib/python3.11/dist-packages (from torch->vmas) (11.2.1.3)\n",
            "Requirement already satisfied: nvidia-curand-cu12==10.3.5.147 in /usr/local/lib/python3.11/dist-packages (from torch->vmas) (10.3.5.147)\n",
            "Requirement already satisfied: nvidia-cusolver-cu12==11.6.1.9 in /usr/local/lib/python3.11/dist-packages (from torch->vmas) (11.6.1.9)\n",
            "Requirement already satisfied: nvidia-cusparse-cu12==12.3.1.170 in /usr/local/lib/python3.11/dist-packages (from torch->vmas) (12.3.1.170)\n",
            "Requirement already satisfied: nvidia-cusparselt-cu12==0.6.2 in /usr/local/lib/python3.11/dist-packages (from torch->vmas) (0.6.2)\n",
            "Requirement already satisfied: nvidia-nccl-cu12==2.21.5 in /usr/local/lib/python3.11/dist-packages (from torch->vmas) (2.21.5)\n",
            "Requirement already satisfied: nvidia-nvtx-cu12==12.4.127 in /usr/local/lib/python3.11/dist-packages (from torch->vmas) (12.4.127)\n",
            "Requirement already satisfied: nvidia-nvjitlink-cu12==12.4.127 in /usr/local/lib/python3.11/dist-packages (from torch->vmas) (12.4.127)\n",
            "Requirement already satisfied: triton==3.2.0 in /usr/local/lib/python3.11/dist-packages (from torch->vmas) (3.2.0)\n",
            "Requirement already satisfied: sympy==1.13.1 in /usr/local/lib/python3.11/dist-packages (from torch->vmas) (1.13.1)\n",
            "Requirement already satisfied: mpmath<1.4,>=1.1.0 in /usr/local/lib/python3.11/dist-packages (from sympy==1.13.1->torch->vmas) (1.3.0)\n",
            "Requirement already satisfied: MarkupSafe>=2.0 in /usr/local/lib/python3.11/dist-packages (from jinja2->torch->vmas) (3.0.2)\n",
            "Requirement already satisfied: pettingzoo==1.24.3 in /usr/local/lib/python3.11/dist-packages (from pettingzoo[mpe]==1.24.3) (1.24.3)\n",
            "Requirement already satisfied: numpy>=1.21.0 in /usr/local/lib/python3.11/dist-packages (from pettingzoo==1.24.3->pettingzoo[mpe]==1.24.3) (2.2.2)\n",
            "Requirement already satisfied: gymnasium>=0.28.0 in /usr/local/lib/python3.11/dist-packages (from pettingzoo==1.24.3->pettingzoo[mpe]==1.24.3) (1.0.0)\n",
            "Requirement already satisfied: pygame==2.3.0 in /usr/local/lib/python3.11/dist-packages (from pettingzoo[mpe]==1.24.3) (2.3.0)\n",
            "Requirement already satisfied: cloudpickle>=1.2.0 in /usr/local/lib/python3.11/dist-packages (from gymnasium>=0.28.0->pettingzoo==1.24.3->pettingzoo[mpe]==1.24.3) (3.1.1)\n",
            "Requirement already satisfied: typing-extensions>=4.3.0 in /usr/local/lib/python3.11/dist-packages (from gymnasium>=0.28.0->pettingzoo==1.24.3->pettingzoo[mpe]==1.24.3) (4.12.2)\n",
            "Requirement already satisfied: farama-notifications>=0.0.1 in /usr/local/lib/python3.11/dist-packages (from gymnasium>=0.28.0->pettingzoo==1.24.3->pettingzoo[mpe]==1.24.3) (0.0.4)\n",
            "Requirement already satisfied: tqdm in /usr/local/lib/python3.11/dist-packages (4.67.1)\n"
          ]
        }
      ]
    },
    {
      "cell_type": "code",
      "execution_count": 2,
      "metadata": {
        "id": "3Xc2-PyISpPx"
      },
      "outputs": [],
      "source": [
        "import copy\n",
        "import tempfile\n",
        "\n",
        "import torch\n",
        "\n",
        "from matplotlib import pyplot as plt\n",
        "from tensordict import TensorDictBase\n",
        "\n",
        "from tensordict.nn import TensorDictModule, TensorDictSequential\n",
        "from torch import multiprocessing\n",
        "\n",
        "from torchrl.collectors import SyncDataCollector\n",
        "from torchrl.data import LazyMemmapStorage, RandomSampler, ReplayBuffer\n",
        "\n",
        "from torchrl.envs import (\n",
        "    check_env_specs,\n",
        "    ExplorationType,\n",
        "    PettingZooEnv,\n",
        "    RewardSum,\n",
        "    set_exploration_type,\n",
        "    TransformedEnv,\n",
        "    VmasEnv,\n",
        ")\n",
        "\n",
        "from torchrl.modules import (\n",
        "    AdditiveGaussianWrapper,\n",
        "    MultiAgentMLP,\n",
        "    ProbabilisticActor,\n",
        "    TanhDelta,\n",
        ")\n",
        "\n",
        "from torchrl.objectives import DDPGLoss, SoftUpdate, ValueEstimators\n",
        "\n",
        "from torchrl.record import CSVLogger, PixelRenderTransform, VideoRecorder\n",
        "\n",
        "from tqdm import tqdm\n",
        "\n",
        "# Check if we're building the doc, in which case disable video rendering\n",
        "try:\n",
        "    is_sphinx = __sphinx_build__\n",
        "except NameError:\n",
        "    is_sphinx = False"
      ]
    },
    {
      "cell_type": "markdown",
      "metadata": {
        "id": "EJbuWBLaSpPy"
      },
      "source": [
        "## Define Hyperparameters\n",
        "\n",
        "We set the hyperparameters for our tutorial.\n",
        "Depending on the resources\n",
        "available, one may choose to execute the policy and the simulator on GPU or on another\n",
        "device.\n",
        "You can tune some of these values to adjust the computational requirements.\n",
        "\n",
        "\n"
      ]
    },
    {
      "cell_type": "code",
      "execution_count": 3,
      "metadata": {
        "id": "r8K17FsDSpPz"
      },
      "outputs": [],
      "source": [
        "# Seed\n",
        "seed = 0\n",
        "torch.manual_seed(seed)\n",
        "\n",
        "# Devices\n",
        "is_fork = multiprocessing.get_start_method() == \"fork\"\n",
        "device = (\n",
        "    torch.device(0)\n",
        "    if torch.cuda.is_available() and not is_fork\n",
        "    else torch.device(\"cpu\")\n",
        ")\n",
        "\n",
        "# Sampling\n",
        "frames_per_batch = 1_000  # Number of team frames collected per sampling iteration\n",
        "n_iters = 10  # Number of sampling and training iterations\n",
        "total_frames = frames_per_batch * n_iters\n",
        "\n",
        "# We will stop training the evaders after this many iterations,\n",
        "# should be 0 <= iteration_when_stop_training_evaders <= n_iters\n",
        "iteration_when_stop_training_evaders = n_iters // 2\n",
        "\n",
        "# Replay buffer\n",
        "memory_size = 1_000_000  # The replay buffer of each group can store this many frames\n",
        "\n",
        "# Training\n",
        "n_optimiser_steps = 100  # Number of optimisation steps per training iteration\n",
        "train_batch_size = 128  # Number of frames trained in each optimiser step\n",
        "lr = 3e-4  # Learning rate\n",
        "max_grad_norm = 1.0  # Maximum norm for the gradients\n",
        "\n",
        "# DDPG\n",
        "gamma = 0.99  # Discount factor\n",
        "polyak_tau = 0.005  # Tau for the soft-update of the target network"
      ]
    },
    {
      "cell_type": "markdown",
      "metadata": {
        "id": "4OKhfceRSpPz"
      },
      "source": [
        "## Environment\n",
        "\n",
        "Multi-agent environments simulate multiple agents interacting with the world.\n",
        "TorchRL API allows integrating various types of multi-agent environment flavours.\n",
        "In this tutorial we will focus on environments where multiple agent groups interact in parallel.\n",
        "That is: at every step all agents will get an observation and take an action synchronously.\n",
        "\n",
        "Furthermore, the TorchRL MARL API allows to separate agents into groups. Each group will be a separate entry in the\n",
        "tensordict. The data of agents within a group is stacked together. Therefore, by choosing how to group your agents,\n",
        "you can decide which data is stacked/kept as separate entries.\n",
        "The grouping strategy can be specified at construction in environments like VMAS and PettingZoo.\n",
        "For more info on grouping, see :class:`~torchrl.envs.utils.MarlGroupMapType`.\n",
        "\n",
        "In the *simple_tag* environment\n",
        "there are two teams of agents: the chasers (or \"adversaries\") (red circles) and the evaders (or \"agents\") (green circles).\n",
        "Chasers are rewarded for touching evaders (+10).\n",
        "Upon a contact the team of chasers is collectively rewarded and the\n",
        "evader touched is penalized with the same value (-10).\n",
        "Evaders have higher speed and acceleration than chasers.\n",
        "In the environment there are also obstacles (black circles).\n",
        "Agents and obstacles are spawned according to a uniform random distribution.\n",
        "Agents act in a 2D continuous world with drag and elastic collisions.\n",
        "Their actions are 2D continuous forces which determine their acceleration.\n",
        "Each agent observes its position,\n",
        "velocity, relative positions to all other agents and obstacles, and velocities of evaders.\n",
        "\n",
        "The PettingZoo and VMAS versions differ slightly in the reward functions as PettingZoo penalizes evaders for going\n",
        "out-of-bounds, while VMAS impedes it physically. This is the reason why you will observe that in VMAS the rewards of the\n",
        "two teams are identical, just with opposite sign, while in PettingZoo the evaders will have lower rewards.\n",
        "\n",
        "We will now instantiate the environment.\n",
        "For this tutorial, we will limit the episodes to ``max_steps``, after which the terminated flag is set. This is\n",
        "functionality is already provided in the PettingZoo and VMAS simulators but the TorchRL :class:`~torchrl.envs.transforms.StepCounter`\n",
        "transform could alternatively be used.\n",
        "\n",
        "\n"
      ]
    },
    {
      "cell_type": "code",
      "execution_count": 4,
      "metadata": {
        "id": "x8n2_CnNSpPz"
      },
      "outputs": [],
      "source": [
        "max_steps = 100  # Environment steps before done\n",
        "\n",
        "n_chasers = 2\n",
        "n_evaders = 1\n",
        "n_obstacles = 2\n",
        "\n",
        "use_vmas = True  # Set this to True for a great performance speedup\n",
        "\n",
        "if not use_vmas:\n",
        "    base_env = PettingZooEnv(\n",
        "        task=\"simple_tag_v3\",\n",
        "        parallel=True,  # Use the Parallel version\n",
        "        seed=seed,\n",
        "        # Scenario specific\n",
        "        continuous_actions=True,\n",
        "        num_good=n_evaders,\n",
        "        num_adversaries=n_chasers,\n",
        "        num_obstacles=n_obstacles,\n",
        "        max_cycles=max_steps,\n",
        "    )\n",
        "else:\n",
        "    num_vmas_envs = (\n",
        "        frames_per_batch // max_steps\n",
        "    )  # Number of vectorized environments. frames_per_batch collection will be divided among these environments\n",
        "    base_env = VmasEnv(\n",
        "        scenario=\"simple_tag\",\n",
        "        num_envs=num_vmas_envs,\n",
        "        continuous_actions=True,\n",
        "        max_steps=max_steps,\n",
        "        device=device,\n",
        "        seed=seed,\n",
        "        # Scenario specific\n",
        "        num_good_agents=n_evaders,\n",
        "        num_adversaries=n_chasers,\n",
        "        num_landmarks=n_obstacles,\n",
        "    )"
      ]
    },
    {
      "cell_type": "markdown",
      "metadata": {
        "id": "u9VmUErlSpP0"
      },
      "source": [
        "### Group map\n",
        "\n",
        "PettingZoo and VMAS environments use the TorchRL MARL grouping API.\n",
        "We can access the group map, mapping each group to the agents in it, as follows:\n",
        "\n",
        "\n"
      ]
    },
    {
      "cell_type": "code",
      "execution_count": 5,
      "metadata": {
        "id": "0jVhm3m5SpP0",
        "outputId": "1c40bf4a-715f-4ad3-c0f9-1d2eb04e8772",
        "colab": {
          "base_uri": "https://localhost:8080/"
        }
      },
      "outputs": [
        {
          "output_type": "stream",
          "name": "stdout",
          "text": [
            "group_map: {'adversary': ['adversary_0', 'adversary_1'], 'agent': ['agent_0']}\n"
          ]
        }
      ],
      "source": [
        "print(f\"group_map: {base_env.group_map}\")"
      ]
    },
    {
      "cell_type": "markdown",
      "metadata": {
        "id": "LkkHLzVLSpP0"
      },
      "source": [
        "as we can see it contains 2 groups: \"agents\" (evaders) and \"adversaries\" (chasers).\n",
        "\n",
        "The environment is not only defined by its simulator and transforms, but also\n",
        "by a series of metadata that describe what can be expected during its\n",
        "execution.\n",
        "For efficiency purposes, TorchRL is quite stringent when it comes to\n",
        "environment specs, but you can easily check that your environment specs are\n",
        "adequate.\n",
        "In our example, the simulator wrapper takes care of setting the proper specs for your base_env, so\n",
        "you should not have to care about this.\n",
        "\n",
        "There are four specs to look at:\n",
        "\n",
        "- ``action_spec`` defines the action space;\n",
        "- ``reward_spec`` defines the reward domain;\n",
        "- ``done_spec`` defines the done domain;\n",
        "- ``observation_spec`` which defines the domain of all other outputs from environment steps;\n",
        "\n",
        "\n",
        "\n"
      ]
    },
    {
      "cell_type": "code",
      "execution_count": 6,
      "metadata": {
        "id": "3N6xlpmhSpP0",
        "outputId": "bfb6e85b-8777-42f7-b60c-5da2b2f4cb72",
        "colab": {
          "base_uri": "https://localhost:8080/"
        }
      },
      "outputs": [
        {
          "output_type": "stream",
          "name": "stdout",
          "text": [
            "action_spec: Composite(\n",
            "    adversary: Composite(\n",
            "        action: BoundedContinuous(\n",
            "            shape=torch.Size([10, 2, 2]),\n",
            "            space=ContinuousBox(\n",
            "                low=Tensor(shape=torch.Size([10, 2, 2]), device=cpu, dtype=torch.float32, contiguous=True),\n",
            "                high=Tensor(shape=torch.Size([10, 2, 2]), device=cpu, dtype=torch.float32, contiguous=True)),\n",
            "            device=cpu,\n",
            "            dtype=torch.float32,\n",
            "            domain=continuous),\n",
            "        device=cpu,\n",
            "        shape=torch.Size([10, 2])),\n",
            "    agent: Composite(\n",
            "        action: BoundedContinuous(\n",
            "            shape=torch.Size([10, 1, 2]),\n",
            "            space=ContinuousBox(\n",
            "                low=Tensor(shape=torch.Size([10, 1, 2]), device=cpu, dtype=torch.float32, contiguous=True),\n",
            "                high=Tensor(shape=torch.Size([10, 1, 2]), device=cpu, dtype=torch.float32, contiguous=True)),\n",
            "            device=cpu,\n",
            "            dtype=torch.float32,\n",
            "            domain=continuous),\n",
            "        device=cpu,\n",
            "        shape=torch.Size([10, 1])),\n",
            "    device=cpu,\n",
            "    shape=torch.Size([10]))\n",
            "reward_spec: Composite(\n",
            "    adversary: Composite(\n",
            "        reward: UnboundedContinuous(\n",
            "            shape=torch.Size([10, 2, 1]),\n",
            "            space=ContinuousBox(\n",
            "                low=Tensor(shape=torch.Size([10, 2, 1]), device=cpu, dtype=torch.float32, contiguous=True),\n",
            "                high=Tensor(shape=torch.Size([10, 2, 1]), device=cpu, dtype=torch.float32, contiguous=True)),\n",
            "            device=cpu,\n",
            "            dtype=torch.float32,\n",
            "            domain=continuous),\n",
            "        device=cpu,\n",
            "        shape=torch.Size([10, 2])),\n",
            "    agent: Composite(\n",
            "        reward: UnboundedContinuous(\n",
            "            shape=torch.Size([10, 1, 1]),\n",
            "            space=ContinuousBox(\n",
            "                low=Tensor(shape=torch.Size([10, 1, 1]), device=cpu, dtype=torch.float32, contiguous=True),\n",
            "                high=Tensor(shape=torch.Size([10, 1, 1]), device=cpu, dtype=torch.float32, contiguous=True)),\n",
            "            device=cpu,\n",
            "            dtype=torch.float32,\n",
            "            domain=continuous),\n",
            "        device=cpu,\n",
            "        shape=torch.Size([10, 1])),\n",
            "    device=cpu,\n",
            "    shape=torch.Size([10]))\n",
            "done_spec: Composite(\n",
            "    done: Categorical(\n",
            "        shape=torch.Size([10, 1]),\n",
            "        space=CategoricalBox(n=2),\n",
            "        device=cpu,\n",
            "        dtype=torch.bool,\n",
            "        domain=discrete),\n",
            "    terminated: Categorical(\n",
            "        shape=torch.Size([10, 1]),\n",
            "        space=CategoricalBox(n=2),\n",
            "        device=cpu,\n",
            "        dtype=torch.bool,\n",
            "        domain=discrete),\n",
            "    device=cpu,\n",
            "    shape=torch.Size([10]))\n",
            "observation_spec: Composite(\n",
            "    adversary: Composite(\n",
            "        observation: UnboundedContinuous(\n",
            "            shape=torch.Size([10, 2, 14]),\n",
            "            space=ContinuousBox(\n",
            "                low=Tensor(shape=torch.Size([10, 2, 14]), device=cpu, dtype=torch.float32, contiguous=True),\n",
            "                high=Tensor(shape=torch.Size([10, 2, 14]), device=cpu, dtype=torch.float32, contiguous=True)),\n",
            "            device=cpu,\n",
            "            dtype=torch.float32,\n",
            "            domain=continuous),\n",
            "        device=cpu,\n",
            "        shape=torch.Size([10, 2])),\n",
            "    agent: Composite(\n",
            "        observation: UnboundedContinuous(\n",
            "            shape=torch.Size([10, 1, 12]),\n",
            "            space=ContinuousBox(\n",
            "                low=Tensor(shape=torch.Size([10, 1, 12]), device=cpu, dtype=torch.float32, contiguous=True),\n",
            "                high=Tensor(shape=torch.Size([10, 1, 12]), device=cpu, dtype=torch.float32, contiguous=True)),\n",
            "            device=cpu,\n",
            "            dtype=torch.float32,\n",
            "            domain=continuous),\n",
            "        device=cpu,\n",
            "        shape=torch.Size([10, 1])),\n",
            "    device=cpu,\n",
            "    shape=torch.Size([10]))\n"
          ]
        }
      ],
      "source": [
        "print(\"action_spec:\", base_env.full_action_spec)\n",
        "print(\"reward_spec:\", base_env.full_reward_spec)\n",
        "print(\"done_spec:\", base_env.full_done_spec)\n",
        "print(\"observation_spec:\", base_env.observation_spec)"
      ]
    },
    {
      "cell_type": "markdown",
      "metadata": {
        "id": "hhWTfJUSSpP1"
      },
      "source": [
        "Using the commands just shown we can access the domain of each value.\n",
        "\n",
        "We can see that all specs are structured as a dictionary, with the root always containing the group names.\n",
        "This structure will be followed in all tensordict data coming and going to the environment.\n",
        "Furthermore, the specs of each group have leading shape ``(n_agents_in_that_group)`` (1 for agents, 2 for adversaries),\n",
        "meaning that the tensor data of that group will always have that leading shape (agents within a group have the data stacked).\n",
        "\n",
        "Looking at the ``done_spec``, we can see that there are some keys that are outside of agent groups\n",
        "(``\"done\", \"terminated\", \"truncated\"``), which do not have a leading multi-agent dimension.\n",
        "These keys are shared by all agents and represent the environment global done state used for resetting.\n",
        "By default, like in this case, parallel PettingZoo environments are done when any agent is done, but this behaviour\n",
        "can be overridden by setting ``done_on_any`` at PettingZoo environment construction.\n",
        "\n",
        "To quickly access the keys for each of these values in tensordicts, we can simply ask the environment for the\n",
        "respective keys, and\n",
        "we will immediately understand which are per-agent and which shared.\n",
        "This info will be useful in order to tell all other TorchRL components where to find each value\n",
        "\n",
        "\n"
      ]
    },
    {
      "cell_type": "code",
      "execution_count": 7,
      "metadata": {
        "id": "wwQIjdSNSpP1",
        "outputId": "8fa0b13f-81c3-42c8-cf81-5bc2d404a68f",
        "colab": {
          "base_uri": "https://localhost:8080/"
        }
      },
      "outputs": [
        {
          "output_type": "stream",
          "name": "stdout",
          "text": [
            "action_keys: [('adversary', 'action'), ('agent', 'action')]\n",
            "reward_keys: [('adversary', 'reward'), ('agent', 'reward')]\n",
            "done_keys: ['done', 'terminated']\n"
          ]
        }
      ],
      "source": [
        "print(\"action_keys:\", base_env.action_keys)\n",
        "print(\"reward_keys:\", base_env.reward_keys)\n",
        "print(\"done_keys:\", base_env.done_keys)"
      ]
    },
    {
      "cell_type": "markdown",
      "metadata": {
        "id": "1EDMXNktSpP1"
      },
      "source": [
        "### Transforms\n",
        "\n",
        "We can append any TorchRL transform we need to our environment.\n",
        "These will modify its input/output in some desired way.\n",
        "We stress that, in multi-agent contexts, it is paramount to provide explicitly the keys to modify.\n",
        "\n",
        "For example, in this case, we will instantiate a ``RewardSum`` transform which will sum rewards over the episode.\n",
        "We will tell this transform where to find the reset keys for each reward key.\n",
        "Essentially we just say that the\n",
        "episode reward of each group should be reset when the ``\"_reset\"`` tensordict key is set, meaning that ``env.reset()``\n",
        "was called.\n",
        "The transformed environment will inherit\n",
        "the device and meta-data of the wrapped environment, and transform these depending on the sequence\n",
        "of transforms it contains.\n",
        "\n",
        "\n"
      ]
    },
    {
      "cell_type": "code",
      "execution_count": 8,
      "metadata": {
        "id": "Kdo5H7r9SpP1"
      },
      "outputs": [],
      "source": [
        "env = TransformedEnv(\n",
        "    base_env,\n",
        "    RewardSum(\n",
        "        in_keys=base_env.reward_keys,\n",
        "        reset_keys=[\"_reset\"] * len(base_env.group_map.keys()),\n",
        "    ),\n",
        ")"
      ]
    },
    {
      "cell_type": "markdown",
      "metadata": {
        "id": "eETPPFeASpP1"
      },
      "source": [
        "the :func:`check_env_specs` function runs a small rollout and compares its output against the environment\n",
        "specs. If no error is raised, we can be confident that the specs are properly defined:\n",
        "\n",
        "\n"
      ]
    },
    {
      "cell_type": "code",
      "execution_count": null,
      "metadata": {
        "id": "O6FWMAvUSpP1"
      },
      "outputs": [],
      "source": [
        "check_env_specs(env)"
      ]
    },
    {
      "cell_type": "markdown",
      "metadata": {
        "id": "C5aoj1ySSpP1"
      },
      "source": [
        "### Rollout\n",
        "\n",
        "For fun, let us see what a simple random rollout looks like. You can\n",
        "call `env.rollout(n_steps)` and get an overview of what the environment inputs\n",
        "and outputs look like. Actions will automatically be drawn at random from the action spec\n",
        "domain.\n",
        "\n",
        "\n"
      ]
    },
    {
      "cell_type": "code",
      "execution_count": 9,
      "metadata": {
        "id": "0hB_bxwSSpP1",
        "outputId": "0cf54b1f-b162-468f-8f7f-ae3a1352951d",
        "colab": {
          "base_uri": "https://localhost:8080/"
        }
      },
      "outputs": [
        {
          "output_type": "stream",
          "name": "stdout",
          "text": [
            "rollout of 5 steps: TensorDict(\n",
            "    fields={\n",
            "        adversary: TensorDict(\n",
            "            fields={\n",
            "                action: Tensor(shape=torch.Size([10, 5, 2, 2]), device=cpu, dtype=torch.float32, is_shared=False),\n",
            "                episode_reward: Tensor(shape=torch.Size([10, 5, 2, 1]), device=cpu, dtype=torch.float32, is_shared=False),\n",
            "                observation: Tensor(shape=torch.Size([10, 5, 2, 14]), device=cpu, dtype=torch.float32, is_shared=False)},\n",
            "            batch_size=torch.Size([10, 5, 2]),\n",
            "            device=cpu,\n",
            "            is_shared=False),\n",
            "        agent: TensorDict(\n",
            "            fields={\n",
            "                action: Tensor(shape=torch.Size([10, 5, 1, 2]), device=cpu, dtype=torch.float32, is_shared=False),\n",
            "                episode_reward: Tensor(shape=torch.Size([10, 5, 1, 1]), device=cpu, dtype=torch.float32, is_shared=False),\n",
            "                observation: Tensor(shape=torch.Size([10, 5, 1, 12]), device=cpu, dtype=torch.float32, is_shared=False)},\n",
            "            batch_size=torch.Size([10, 5, 1]),\n",
            "            device=cpu,\n",
            "            is_shared=False),\n",
            "        done: Tensor(shape=torch.Size([10, 5, 1]), device=cpu, dtype=torch.bool, is_shared=False),\n",
            "        next: TensorDict(\n",
            "            fields={\n",
            "                adversary: TensorDict(\n",
            "                    fields={\n",
            "                        episode_reward: Tensor(shape=torch.Size([10, 5, 2, 1]), device=cpu, dtype=torch.float32, is_shared=False),\n",
            "                        observation: Tensor(shape=torch.Size([10, 5, 2, 14]), device=cpu, dtype=torch.float32, is_shared=False),\n",
            "                        reward: Tensor(shape=torch.Size([10, 5, 2, 1]), device=cpu, dtype=torch.float32, is_shared=False)},\n",
            "                    batch_size=torch.Size([10, 5, 2]),\n",
            "                    device=cpu,\n",
            "                    is_shared=False),\n",
            "                agent: TensorDict(\n",
            "                    fields={\n",
            "                        episode_reward: Tensor(shape=torch.Size([10, 5, 1, 1]), device=cpu, dtype=torch.float32, is_shared=False),\n",
            "                        observation: Tensor(shape=torch.Size([10, 5, 1, 12]), device=cpu, dtype=torch.float32, is_shared=False),\n",
            "                        reward: Tensor(shape=torch.Size([10, 5, 1, 1]), device=cpu, dtype=torch.float32, is_shared=False)},\n",
            "                    batch_size=torch.Size([10, 5, 1]),\n",
            "                    device=cpu,\n",
            "                    is_shared=False),\n",
            "                done: Tensor(shape=torch.Size([10, 5, 1]), device=cpu, dtype=torch.bool, is_shared=False),\n",
            "                terminated: Tensor(shape=torch.Size([10, 5, 1]), device=cpu, dtype=torch.bool, is_shared=False)},\n",
            "            batch_size=torch.Size([10, 5]),\n",
            "            device=cpu,\n",
            "            is_shared=False),\n",
            "        terminated: Tensor(shape=torch.Size([10, 5, 1]), device=cpu, dtype=torch.bool, is_shared=False)},\n",
            "    batch_size=torch.Size([10, 5]),\n",
            "    device=cpu,\n",
            "    is_shared=False)\n",
            "Shape of the rollout TensorDict: torch.Size([10, 5])\n"
          ]
        }
      ],
      "source": [
        "n_rollout_steps = 5\n",
        "rollout = env.rollout(n_rollout_steps)\n",
        "print(f\"rollout of {n_rollout_steps} steps:\", rollout)\n",
        "print(\"Shape of the rollout TensorDict:\", rollout.batch_size)"
      ]
    },
    {
      "cell_type": "markdown",
      "metadata": {
        "id": "0ImAWLEISpP2"
      },
      "source": [
        "We can see that our rollout has ``batch_size`` of ``(n_rollout_steps)``.\n",
        "This means that all the tensors in it will have this leading dimension.\n",
        "\n",
        "Looking more in depth, we can see that the output tensordict can be divided in the following way:\n",
        "\n",
        "- *In the root* (accessible by running ``rollout.exclude(\"next\")`` ) we will find all the keys that are available\n",
        "  after a reset is called at the first timestep. We can see their evolution through the rollout steps by indexing\n",
        "  the ``n_rollout_steps`` dimension. Among these keys, we will find the ones that are different for each agent\n",
        "  in the ``rollout[group_name]`` tensordicts, which will have batch size ``(n_rollout_steps, n_agents_in_group)``\n",
        "  signifying that it is storing the additional agent dimension. The ones outside the group tensordicts\n",
        "  will be the shared ones.\n",
        "- *In the next* (accessible by running ``rollout.get(\"next\")`` ). We will find the same structure as the root with some minor differences highlighted below.\n",
        "\n",
        "In TorchRL the convention is that done and observations will be present in both root and next (as these are\n",
        "available both at reset time and after a step). Action will only be available in root (as there is no action\n",
        "resulting from a step) and reward will only be available in next (as there is no reward at reset time).\n",
        "This structure follows the one in **Reinforcement Learning: An Introduction (Sutton and Barto)** where root represents data at time $t$ and\n",
        "next represents data at time $t+1$ of a world step.\n",
        "\n",
        "\n",
        "### Render a random rollout\n",
        "\n",
        "If you are on Google Colab, or on a machine with OpenGL and a GUI, you can actually render a random rollout.\n",
        "This will give you an idea of what a random policy will achieve in this task, in order to compare it\n",
        "with the policy you will train yourself!\n",
        "\n",
        "To render a rollout, follow the instructions in the *Render* section at the end of this tutorial\n",
        "and just remove the line ``policy=agents_exploration_policy`` from ``env.rollout()``.\n",
        "\n",
        "\n",
        "## Policy\n",
        "\n",
        "DDPG utilises a deterministic policy. This means that our\n",
        "neural network will output the action to take.\n",
        "As the action is continuous, we use a Tanh-Delta distribution to respect the\n",
        "action space boundaries. The only thing that this class does is apply a Tanh transformation to make sure the action\n",
        "is withing the domain bounds.\n",
        "\n",
        "Another important decision we need to make is whether we want the agents within a team to **share the policy parameters**.\n",
        "On the one hand, sharing parameters means that they will all share the same policy, which will allow them to benefit from\n",
        "each other's experiences. This will also result in faster training.\n",
        "On the other hand, it will make them behaviourally *homogenous*, as they will in fact share the same model.\n",
        "For this example, we will enable sharing as we do not mind the homogeneity and can benefit from the computational\n",
        "speed, but it is important to always think about this decision in your own problems!\n",
        "\n",
        "We design the policy in three steps.\n",
        "\n",
        "**First**: define a neural network ``n_obs_per_agent`` -> ``n_actions_per_agents``\n",
        "\n",
        "For this we use the ``MultiAgentMLP``, a TorchRL module made exactly for\n",
        "multiple agents, with much customisation available.\n",
        "\n",
        "We will define a different policy for each group and store them in a dictionary.\n",
        "\n",
        "\n",
        "\n"
      ]
    },
    {
      "cell_type": "code",
      "execution_count": 10,
      "metadata": {
        "id": "qVTctR0oSpP2"
      },
      "outputs": [],
      "source": [
        "policy_modules = {}\n",
        "for group, agents in env.group_map.items():\n",
        "    share_parameters_policy = True  # Can change this based on the group\n",
        "\n",
        "    policy_net = MultiAgentMLP(\n",
        "        n_agent_inputs=env.observation_spec[group, \"observation\"].shape[\n",
        "            -1\n",
        "        ],  # n_obs_per_agent\n",
        "        n_agent_outputs=env.full_action_spec[group, \"action\"].shape[\n",
        "            -1\n",
        "        ],  # n_actions_per_agents\n",
        "        n_agents=len(agents),  # Number of agents in the group\n",
        "        centralised=False,  # the policies are decentralised (i.e., each agent will act from its local observation)\n",
        "        share_params=share_parameters_policy,\n",
        "        device=device,\n",
        "        depth=2,\n",
        "        num_cells=256,\n",
        "        activation_class=torch.nn.Tanh,\n",
        "    )\n",
        "\n",
        "    # Wrap the neural network in a :class:`~tensordict.nn.TensorDictModule`.\n",
        "    # This is simply a module that will read the ``in_keys`` from a tensordict, feed them to the\n",
        "    # neural networks, and write the\n",
        "    # outputs in-place at the ``out_keys``.\n",
        "\n",
        "    policy_module = TensorDictModule(\n",
        "        policy_net,\n",
        "        in_keys=[(group, \"observation\")],\n",
        "        out_keys=[(group, \"param\")],\n",
        "    )  # We just name the input and output that the network will read and write to the input tensordict\n",
        "    policy_modules[group] = policy_module"
      ]
    },
    {
      "cell_type": "markdown",
      "metadata": {
        "id": "4d1SyVpnSpP2"
      },
      "source": [
        "**Second**: wrap the :class:`~tensodrdict.nn.TensorDictModule` in a :class:`~torchrl.modules.ProbabilisticActor`\n",
        "\n",
        "We now need to build the TanhDelta distribution.\n",
        "We instruct the :class:`~torchrl.modules.ProbabilisticActor`\n",
        "class to build a :class:`~torchrl.modules.TanhDelta` out of the policy action\n",
        "parameters. We also provide the minimum and maximum values of this\n",
        "distribution, which we gather from the environment specs.\n",
        "\n",
        "The name of the ``in_keys`` (and hence the name of the ``out_keys`` from\n",
        "the :class:`TensorDictModule` above) has to end with the\n",
        ":class:`~torchrl.modules.TanhDelta` distribution constructor keyword arguments (param).\n",
        "\n",
        "\n"
      ]
    },
    {
      "cell_type": "code",
      "execution_count": 11,
      "metadata": {
        "id": "bBUDTjCdSpP2"
      },
      "outputs": [],
      "source": [
        "policies = {}\n",
        "for group, _agents in env.group_map.items():\n",
        "    policy = ProbabilisticActor(\n",
        "        module=policy_modules[group],\n",
        "        spec=env.full_action_spec[group, \"action\"],\n",
        "        in_keys=[(group, \"param\")],\n",
        "        out_keys=[(group, \"action\")],\n",
        "        distribution_class=TanhDelta,\n",
        "        distribution_kwargs={\n",
        "            \"min\": env.full_action_spec[group, \"action\"].space.low,\n",
        "            \"max\": env.full_action_spec[group, \"action\"].space.high,\n",
        "        },\n",
        "        return_log_prob=False,\n",
        "    )\n",
        "    policies[group] = policy"
      ]
    },
    {
      "cell_type": "markdown",
      "metadata": {
        "id": "y2iGNP-rSpP2"
      },
      "source": [
        "**Third**: Exploration\n",
        "\n",
        "Since the DDPG policy is deterministic, we need a way to perform exploration during collection.\n",
        "\n",
        "For this purpose, we need to append an exploration layer to our policies before passing them to the collector.\n",
        "In this case we use a :class:`~torchrl.modules.AdditiveGaussianWrapper`, which adds gaussian noise to our action\n",
        "(and clamps it if the noise makes the action out of bounds).\n",
        "\n",
        "This exploration wrapper uses a ``sigma`` parameter which is multiplied by the noise to determine its magnitude.\n",
        "Sigma can be annealed throughout training to reduce exploration.\n",
        "Sigma will go from ``sigma_init`` to ``sigma_end`` in ``annealing_num_steps``.\n",
        "\n",
        "\n"
      ]
    },
    {
      "cell_type": "code",
      "source": [
        "import torchrl\n",
        "print(torchrl.__version__)"
      ],
      "metadata": {
        "id": "5MtB4Ob00IEx",
        "outputId": "979ea701-c902-4d8f-f1ee-10a0e76a8e17",
        "colab": {
          "base_uri": "https://localhost:8080/"
        }
      },
      "execution_count": 29,
      "outputs": [
        {
          "output_type": "stream",
          "name": "stdout",
          "text": [
            "0.7.0\n"
          ]
        }
      ]
    },
    {
      "cell_type": "code",
      "execution_count": 27,
      "metadata": {
        "id": "x26-9Uj_SpP2",
        "outputId": "cf624403-9264-497a-c98c-de1f20f34eaf",
        "colab": {
          "base_uri": "https://localhost:8080/",
          "height": 418
        }
      },
      "outputs": [
        {
          "output_type": "error",
          "ename": "ImportError",
          "evalue": "cannot import name 'TensorDictModule' from 'torchrl.modules' (/usr/local/lib/python3.11/dist-packages/torchrl/modules/__init__.py)",
          "traceback": [
            "\u001b[0;31m---------------------------------------------------------------------------\u001b[0m",
            "\u001b[0;31mImportError\u001b[0m                               Traceback (most recent call last)",
            "\u001b[0;32m<ipython-input-27-91c51353024c>\u001b[0m in \u001b[0;36m<cell line: 0>\u001b[0;34m()\u001b[0m\n\u001b[0;32m----> 1\u001b[0;31m \u001b[0;32mfrom\u001b[0m \u001b[0mtorchrl\u001b[0m\u001b[0;34m.\u001b[0m\u001b[0mmodules\u001b[0m \u001b[0;32mimport\u001b[0m \u001b[0mTensorDictModule\u001b[0m\u001b[0;34m\u001b[0m\u001b[0;34m\u001b[0m\u001b[0m\n\u001b[0m\u001b[1;32m      2\u001b[0m \u001b[0;32mimport\u001b[0m \u001b[0mtorch\u001b[0m\u001b[0;34m.\u001b[0m\u001b[0mnn\u001b[0m \u001b[0;32mas\u001b[0m \u001b[0mnn\u001b[0m\u001b[0;34m\u001b[0m\u001b[0;34m\u001b[0m\u001b[0m\n\u001b[1;32m      3\u001b[0m \u001b[0;34m\u001b[0m\u001b[0m\n\u001b[1;32m      4\u001b[0m \u001b[0;31m# 예: 기존에 만든 net = nn.Sequential(...)\u001b[0m\u001b[0;34m\u001b[0m\u001b[0;34m\u001b[0m\u001b[0m\n\u001b[1;32m      5\u001b[0m net = nn.Sequential(\n",
            "\u001b[0;31mImportError\u001b[0m: cannot import name 'TensorDictModule' from 'torchrl.modules' (/usr/local/lib/python3.11/dist-packages/torchrl/modules/__init__.py)",
            "",
            "\u001b[0;31m---------------------------------------------------------------------------\u001b[0;32m\nNOTE: If your import is failing due to a missing package, you can\nmanually install dependencies using either !pip or !apt.\n\nTo view examples of installing some common dependencies, click the\n\"Open Examples\" button below.\n\u001b[0;31m---------------------------------------------------------------------------\u001b[0m\n"
          ],
          "errorDetails": {
            "actions": [
              {
                "action": "open_url",
                "actionText": "Open Examples",
                "url": "/notebooks/snippets/importing_libraries.ipynb"
              }
            ]
          }
        }
      ],
      "source": [
        "from torchrl.modules import TensorDictModule\n",
        "import torch.nn as nn\n",
        "\n",
        "# 예: 기존에 만든 net = nn.Sequential(...)\n",
        "net = nn.Sequential(\n",
        "    nn.Linear(obs_dim, hidden_dim),\n",
        "    nn.ReLU(),\n",
        "    nn.Linear(hidden_dim, act_dim),\n",
        ")\n",
        "\n",
        "# 1) net을 TensorDictModule로 감싸기\n",
        "policy_module = TensorDictModule(\n",
        "    module=net,\n",
        "    in_keys=[\"observation\"],   # TensorDict에서 'observation' key를 꺼내 net에 전달\n",
        "    out_keys=[\"action\"],       # net의 출력을 'action' key에 저장\n",
        ")\n",
        "\n",
        "# (옵션) policy_module.spec 설정 (action의 범위, shape 등)\n",
        "# 예) action이 [-1, 1] 범위, shape=(act_dim,) 라고 가정:\n",
        "# from torchrl.data import BoundedTensorSpec\n",
        "# policy_module.spec = {\"action\": BoundedTensorSpec(-1, 1, shape=(act_dim,))}\n",
        "\n",
        "# 2) 그 다음 TorchRL의 exploration 모듈로 감싸기\n",
        "from torchrl.modules import AdditiveGaussianModule\n",
        "\n",
        "exploration_policy = AdditiveGaussianModule(\n",
        "    policy_module,\n",
        "    annealing_num_steps=total_frames // 2,\n",
        "    sigma_init=0.9,\n",
        "    sigma_end=0.1,\n",
        "    action_key=\"action\",\n",
        ")\n",
        "\n"
      ]
    },
    {
      "cell_type": "markdown",
      "metadata": {
        "id": "jK3ha-ImSpP2"
      },
      "source": [
        "## Critic network\n",
        "\n",
        "The critic network is a crucial component of the DDPG algorithm, even though it\n",
        "isn't used at sampling time. This module will read the observations & actions taken and\n",
        "return the corresponding value estimates.\n",
        "\n",
        "As before, one should think carefully about the decision of **sharing the critic parameters** within an agent group.\n",
        "In general, parameter sharing will grant faster training convergence, but there are a few important\n",
        "considerations to be made:\n",
        "\n",
        "- Sharing is not recommended when agents have different reward functions, as the critics will need to learn\n",
        "  to assign different values to the same state (e.g., in mixed cooperative-competitive settings).\n",
        "  In this case, since the two groups are already using separate networks, the sharing decision only applies\n",
        "  for agents within a group, which we already know have the same reward function.\n",
        "- In decentralised training settings, sharing cannot be performed without additional infrastructure to\n",
        "  synchronise parameters.\n",
        "\n",
        "In all other cases where the reward function (to be differentiated from the reward) is the same for all agents\n",
        "in a group (as in the current scenario),\n",
        "sharing can provide improved performance. This can come at the cost of homogeneity in the agent strategies.\n",
        "In general, the best way to know which choice is preferable is to quickly experiment both options.\n",
        "\n",
        "Here is also where we have to choose between **MADDPG and IDDPG**:\n",
        "\n",
        "- With MADDPG, we will obtain a central critic with full-observability\n",
        "  (i.e., it will take all the concatenated global agent observations and actions as input).\n",
        "  We can do this because we are in a simulator\n",
        "  and training is centralised.\n",
        "- With IDDPG, we will have a local decentralised critic, just like the policy.\n",
        "\n",
        "In any case, the critic output will have shape ``(..., n_agents_in_group, 1)``.\n",
        "If the critic is centralised and shared,\n",
        "all the values along the ``n_agents_in_group`` dimension will be identical.\n",
        "\n",
        "As with the policy, we create a critic network for each group and store them in a dictionary.\n",
        "\n",
        "\n"
      ]
    },
    {
      "cell_type": "code",
      "execution_count": null,
      "metadata": {
        "id": "GXThd8TmSpP2"
      },
      "outputs": [],
      "source": [
        "critics = {}\n",
        "for group, agents in env.group_map.items():\n",
        "    share_parameters_critic = True  # Can change for each group\n",
        "    MADDPG = True  # IDDPG if False, can change for each group\n",
        "\n",
        "    # This module applies the lambda function: reading the action and observation entries for the group\n",
        "    # and concatenating them in a new ``(group, \"obs_action\")`` entry\n",
        "    cat_module = TensorDictModule(\n",
        "        lambda obs, action: torch.cat([obs, action], dim=-1),\n",
        "        in_keys=[(group, \"observation\"), (group, \"action\")],\n",
        "        out_keys=[(group, \"obs_action\")],\n",
        "    )\n",
        "\n",
        "    critic_module = TensorDictModule(\n",
        "        module=MultiAgentMLP(\n",
        "            n_agent_inputs=env.observation_spec[group, \"observation\"].shape[-1]\n",
        "            + env.full_action_spec[group, \"action\"].shape[-1],\n",
        "            n_agent_outputs=1,  # 1 value per agent\n",
        "            n_agents=len(agents),\n",
        "            centralised=MADDPG,\n",
        "            share_params=share_parameters_critic,\n",
        "            device=device,\n",
        "            depth=2,\n",
        "            num_cells=256,\n",
        "            activation_class=torch.nn.Tanh,\n",
        "        ),\n",
        "        in_keys=[(group, \"obs_action\")],  # Read ``(group, \"obs_action\")``\n",
        "        out_keys=[\n",
        "            (group, \"state_action_value\")\n",
        "        ],  # Write ``(group, \"state_action_value\")``\n",
        "    )\n",
        "\n",
        "    critics[group] = TensorDictSequential(\n",
        "        cat_module, critic_module\n",
        "    )  # Run them in sequence"
      ]
    },
    {
      "cell_type": "markdown",
      "metadata": {
        "id": "kcY1hT7aSpP3"
      },
      "source": [
        "Let us try our policy and critic modules. As pointed earlier, the usage of\n",
        ":class:`~tensordict.nn.TensorDictModule` makes it possible to directly read the output\n",
        "of the environment to run these modules, as they know what information to read\n",
        "and where to write it.\n",
        "\n",
        "We can see that after each group's networks are run their output keys are added to the data under the\n",
        "group entry.\n",
        "\n",
        "**From this point on, the multi-agent-specific components have been instantiated, and we will simply use the same\n",
        "components as in single-agent learning. Isn't this fantastic?**\n",
        "\n",
        "\n"
      ]
    },
    {
      "cell_type": "code",
      "execution_count": null,
      "metadata": {
        "id": "N4qEAedhSpP3"
      },
      "outputs": [],
      "source": [
        "reset_td = env.reset()\n",
        "for group, _agents in env.group_map.items():\n",
        "    print(\n",
        "        f\"Running value and policy for group '{group}':\",\n",
        "        critics[group](policies[group](reset_td)),\n",
        "    )"
      ]
    },
    {
      "cell_type": "markdown",
      "metadata": {
        "id": "Id3LjZorSpP3"
      },
      "source": [
        "## Data collector\n",
        "\n",
        "TorchRL provides a set of data collector classes. Briefly, these\n",
        "classes execute three operations: reset an environment, compute an action\n",
        "using the policy and the latest observation, execute a step in the environment, and repeat\n",
        "the last two steps until the environment signals a stop (or reaches a done\n",
        "state).\n",
        "\n",
        "We will use the simplest possible data collector, which has the same output as an environment rollout,\n",
        "with the only difference that it will auto reset done states until the desired frames are collected.\n",
        "\n",
        "We need to feed it our exploration policies. Furthermore, to run the policies from all groups as if they were one,\n",
        "we put them in a sequence. They will not interfere with each other as each group writes and reads keys in different places.\n",
        "\n",
        "\n"
      ]
    },
    {
      "cell_type": "code",
      "execution_count": null,
      "metadata": {
        "id": "E3bBSEXSSpP3"
      },
      "outputs": [],
      "source": [
        "# Put exploration policies from each group in a sequence\n",
        "agents_exploration_policy = TensorDictSequential(*exploration_policies.values())\n",
        "\n",
        "collector = SyncDataCollector(\n",
        "    env,\n",
        "    agents_exploration_policy,\n",
        "    device=device,\n",
        "    frames_per_batch=frames_per_batch,\n",
        "    total_frames=total_frames,\n",
        ")"
      ]
    },
    {
      "cell_type": "markdown",
      "metadata": {
        "id": "YopukYuoSpP3"
      },
      "source": [
        "## Replay buffer\n",
        "\n",
        "Replay buffers are a common building piece of off-policy RL sota-implementations.\n",
        "There are many types of buffers, in this tutorial we use a basic buffer to store and sample tensordict\n",
        "data randomly.\n",
        "\n",
        "\n"
      ]
    },
    {
      "cell_type": "code",
      "execution_count": null,
      "metadata": {
        "id": "CQugSH8HSpP3"
      },
      "outputs": [],
      "source": [
        "replay_buffers = {}\n",
        "for group, _agents in env.group_map.items():\n",
        "    replay_buffer = ReplayBuffer(\n",
        "        storage=LazyMemmapStorage(\n",
        "            memory_size, device=device\n",
        "        ),  # We will store up to memory_size multi-agent transitions\n",
        "        sampler=RandomSampler(),\n",
        "        batch_size=train_batch_size,  # We will sample batches of this size\n",
        "    )\n",
        "    replay_buffers[group] = replay_buffer"
      ]
    },
    {
      "cell_type": "markdown",
      "metadata": {
        "id": "WRogBowfSpP3"
      },
      "source": [
        "## Loss function\n",
        "\n",
        "The DDPG loss can be directly imported from TorchRL for convenience using the\n",
        ":class:`~.objectives.DDPGLoss` class. This is the easiest way of utilising DDPG:\n",
        "it hides away the mathematical operations of DDPG and the control flow that\n",
        "goes with it.\n",
        "\n",
        "It is also possible to have different policies for each group.\n",
        "\n",
        "\n"
      ]
    },
    {
      "cell_type": "code",
      "execution_count": null,
      "metadata": {
        "id": "n7_HRXwzSpP3"
      },
      "outputs": [],
      "source": [
        "losses = {}\n",
        "for group, _agents in env.group_map.items():\n",
        "    loss_module = DDPGLoss(\n",
        "        actor_network=policies[group],  # Use the non-explorative policies\n",
        "        value_network=critics[group],\n",
        "        delay_value=True,  # Whether to use a target network for the value\n",
        "        loss_function=\"l2\",\n",
        "    )\n",
        "    loss_module.set_keys(\n",
        "        state_action_value=(group, \"state_action_value\"),\n",
        "        reward=(group, \"reward\"),\n",
        "        done=(group, \"done\"),\n",
        "        terminated=(group, \"terminated\"),\n",
        "    )\n",
        "    loss_module.make_value_estimator(ValueEstimators.TD0, gamma=gamma)\n",
        "\n",
        "    losses[group] = loss_module\n",
        "\n",
        "target_updaters = {\n",
        "    group: SoftUpdate(loss, tau=polyak_tau) for group, loss in losses.items()\n",
        "}\n",
        "\n",
        "optimisers = {\n",
        "    group: {\n",
        "        \"loss_actor\": torch.optim.Adam(\n",
        "            loss.actor_network_params.flatten_keys().values(), lr=lr\n",
        "        ),\n",
        "        \"loss_value\": torch.optim.Adam(\n",
        "            loss.value_network_params.flatten_keys().values(), lr=lr\n",
        "        ),\n",
        "    }\n",
        "    for group, loss in losses.items()\n",
        "}"
      ]
    },
    {
      "cell_type": "markdown",
      "metadata": {
        "id": "GVkg4jI4SpP4"
      },
      "source": [
        "## Training utils\n",
        "\n",
        "We do have to define two helper functions that we will use in the training loop.\n",
        "They are very simple and do not contain any important logic.\n",
        "\n",
        "\n",
        "\n"
      ]
    },
    {
      "cell_type": "code",
      "execution_count": null,
      "metadata": {
        "id": "bk0mGinaSpP4"
      },
      "outputs": [],
      "source": [
        "def process_batch(batch: TensorDictBase) -> TensorDictBase:\n",
        "    \"\"\"\n",
        "    If the `(group, \"terminated\")` and `(group, \"done\")` keys are not present, create them by expanding\n",
        "    `\"terminated\"` and `\"done\"`.\n",
        "    This is needed to present them with the same shape as the reward to the loss.\n",
        "    \"\"\"\n",
        "    for group in env.group_map.keys():\n",
        "        keys = list(batch.keys(True, True))\n",
        "        group_shape = batch.get_item_shape(group)\n",
        "        nested_done_key = (\"next\", group, \"done\")\n",
        "        nested_terminated_key = (\"next\", group, \"terminated\")\n",
        "        if nested_done_key not in keys:\n",
        "            batch.set(\n",
        "                nested_done_key,\n",
        "                batch.get((\"next\", \"done\")).unsqueeze(-1).expand((*group_shape, 1)),\n",
        "            )\n",
        "        if nested_terminated_key not in keys:\n",
        "            batch.set(\n",
        "                nested_terminated_key,\n",
        "                batch.get((\"next\", \"terminated\"))\n",
        "                .unsqueeze(-1)\n",
        "                .expand((*group_shape, 1)),\n",
        "            )\n",
        "    return batch"
      ]
    },
    {
      "cell_type": "markdown",
      "metadata": {
        "id": "4DQD72UqSpP4"
      },
      "source": [
        "## Training loop\n",
        "We now have all the pieces needed to code our training loop.\n",
        "The steps include:\n",
        "\n",
        "* Collect data for all groups\n",
        "    * Loop over groups\n",
        "        * Store group data in group buffer\n",
        "        * Loop over epochs\n",
        "            * Sample from group buffer\n",
        "            * Compute loss on sampled data\n",
        "            * Back propagate loss\n",
        "            * Optimise\n",
        "        * Repeat\n",
        "    * Repeat\n",
        "* Repeat\n",
        "\n",
        "\n",
        "\n"
      ]
    },
    {
      "cell_type": "code",
      "execution_count": null,
      "metadata": {
        "id": "2WJEoCG_SpP4"
      },
      "outputs": [],
      "source": [
        "pbar = tqdm(\n",
        "    total=n_iters,\n",
        "    desc=\", \".join(\n",
        "        [f\"episode_reward_mean_{group} = 0\" for group in env.group_map.keys()]\n",
        "    ),\n",
        ")\n",
        "episode_reward_mean_map = {group: [] for group in env.group_map.keys()}\n",
        "train_group_map = copy.deepcopy(env.group_map)\n",
        "\n",
        "# Training/collection iterations\n",
        "for iteration, batch in enumerate(collector):\n",
        "    current_frames = batch.numel()\n",
        "    batch = process_batch(batch)  # Util to expand done keys if needed\n",
        "    # Loop over groups\n",
        "    for group in train_group_map.keys():\n",
        "        group_batch = batch.exclude(\n",
        "            *[\n",
        "                key\n",
        "                for _group in env.group_map.keys()\n",
        "                if _group != group\n",
        "                for key in [_group, (\"next\", _group)]\n",
        "            ]\n",
        "        )  # Exclude data from other groups\n",
        "        group_batch = group_batch.reshape(\n",
        "            -1\n",
        "        )  # This just affects the leading dimensions in batch_size of the tensordict\n",
        "        replay_buffers[group].extend(group_batch)\n",
        "\n",
        "        for _ in range(n_optimiser_steps):\n",
        "            subdata = replay_buffers[group].sample()\n",
        "            loss_vals = losses[group](subdata)\n",
        "\n",
        "            for loss_name in [\"loss_actor\", \"loss_value\"]:\n",
        "                loss = loss_vals[loss_name]\n",
        "                optimiser = optimisers[group][loss_name]\n",
        "\n",
        "                loss.backward()\n",
        "\n",
        "                # Optional\n",
        "                params = optimiser.param_groups[0][\"params\"]\n",
        "                torch.nn.utils.clip_grad_norm_(params, max_grad_norm)\n",
        "\n",
        "                optimiser.step()\n",
        "                optimiser.zero_grad()\n",
        "\n",
        "            # Soft-update the target network\n",
        "            target_updaters[group].step()\n",
        "\n",
        "        # Exploration sigma anneal update\n",
        "        exploration_policies[group].step(current_frames)\n",
        "\n",
        "    # Stop training a certain group when a condition is met (e.g., number of training iterations)\n",
        "    if iteration == iteration_when_stop_training_evaders:\n",
        "        del train_group_map[\"agent\"]\n",
        "\n",
        "    # Logging\n",
        "    for group in env.group_map.keys():\n",
        "        episode_reward_mean = (\n",
        "            batch.get((\"next\", group, \"episode_reward\"))[\n",
        "                batch.get((\"next\", group, \"done\"))\n",
        "            ]\n",
        "            .mean()\n",
        "            .item()\n",
        "        )\n",
        "        episode_reward_mean_map[group].append(episode_reward_mean)\n",
        "\n",
        "    pbar.set_description(\n",
        "        \", \".join(\n",
        "            [\n",
        "                f\"episode_reward_mean_{group} = {episode_reward_mean_map[group][-1]}\"\n",
        "                for group in env.group_map.keys()\n",
        "            ]\n",
        "        ),\n",
        "        refresh=False,\n",
        "    )\n",
        "    pbar.update()"
      ]
    },
    {
      "cell_type": "markdown",
      "metadata": {
        "id": "UP0q_ThcSpP7"
      },
      "source": [
        "## Results\n",
        "\n",
        "We can plot the mean reward obtained per episode.\n",
        "\n",
        "To make training last longer, increase the ``n_iters`` hyperparameter.\n",
        "\n",
        "When running this script locally, you may need to close the opened window to\n",
        "proceed with the rest of the screen.\n",
        "\n",
        "\n"
      ]
    },
    {
      "cell_type": "code",
      "execution_count": null,
      "metadata": {
        "id": "og4Sgs1SSpP7"
      },
      "outputs": [],
      "source": [
        "fig, axs = plt.subplots(2, 1)\n",
        "for i, group in enumerate(env.group_map.keys()):\n",
        "    axs[i].plot(episode_reward_mean_map[group], label=f\"Episode reward mean {group}\")\n",
        "    axs[i].set_ylabel(\"Reward\")\n",
        "    axs[i].axvline(\n",
        "        x=iteration_when_stop_training_evaders,\n",
        "        label=\"Agent (evader) stop training\",\n",
        "        color=\"orange\",\n",
        "    )\n",
        "    axs[i].legend()\n",
        "axs[-1].set_xlabel(\"Training iterations\")\n",
        "plt.show()"
      ]
    },
    {
      "cell_type": "markdown",
      "metadata": {
        "id": "lmFm3_mgSpP8"
      },
      "source": [
        "## Render\n",
        "\n",
        "*Rendering instruction are for VMAS*, aka when running with ``use_vmas=True``.\n",
        "\n",
        "TorchRL offers some utils to record and save rendered videos. You can learn more about these tools\n",
        "`here <Environment-Recorders>`.\n",
        "\n",
        "In the following code-block, we append a transform that will call the :meth:`render` method from the VMAS\n",
        "wrapped environment and save the stack of frames to a `mp4` file which location is determined by the custom\n",
        "logger `video_logger`. Note that this code may require some external dependencies such as torchvision.\n",
        "\n",
        "\n"
      ]
    },
    {
      "cell_type": "code",
      "execution_count": null,
      "metadata": {
        "id": "CikmX6bCSpP8"
      },
      "outputs": [],
      "source": [
        "if use_vmas and not is_sphinx:\n",
        "    # Replace tmpdir with any desired path where the video should be saved\n",
        "    with tempfile.TemporaryDirectory() as tmpdir:\n",
        "        video_logger = CSVLogger(\"vmas_logs\", tmpdir, video_format=\"mp4\")\n",
        "        print(\"Creating rendering env\")\n",
        "        env_with_render = TransformedEnv(env.base_env, env.transform.clone())\n",
        "        env_with_render = env_with_render.append_transform(\n",
        "            PixelRenderTransform(\n",
        "                out_keys=[\"pixels\"],\n",
        "                # the np.ndarray has a negative stride and needs to be copied before being cast to a tensor\n",
        "                preproc=lambda x: x.copy(),\n",
        "                as_non_tensor=True,\n",
        "                # asking for array rather than on-screen rendering\n",
        "                mode=\"rgb_array\",\n",
        "            )\n",
        "        )\n",
        "        env_with_render = env_with_render.append_transform(\n",
        "            VideoRecorder(logger=video_logger, tag=\"vmas_rendered\")\n",
        "        )\n",
        "        with set_exploration_type(ExplorationType.MODE):\n",
        "            print(\"Rendering rollout...\")\n",
        "            env_with_render.rollout(100, policy=agents_exploration_policy)\n",
        "        print(\"Saving the video...\")\n",
        "        env_with_render.transform.dump()\n",
        "        print(\"Saved! Saved directory tree:\")\n",
        "        video_logger.print_log_dir()"
      ]
    },
    {
      "cell_type": "markdown",
      "metadata": {
        "id": "US4Rv9YzSpP8"
      },
      "source": [
        "## Conclusion and next steps\n",
        "\n",
        "In this tutorial, we have seen:\n",
        "\n",
        "- How to create a competitive multi-group multi-agent environment in TorchRL, how its specs work, and how it integrates with the library;\n",
        "- How to create multi-agent network architectures in TorchRL for multiple groups;\n",
        "- How we can use :class:`tensordict.TensorDict` to carry multi-agent multi-group data;\n",
        "- How we can tie all the library components (collectors, modules, replay buffers, and losses) in a multi-agent multi-group MADDPG/IDDPG training loop.\n",
        "\n",
        "Now that you are proficient with multi-agent DDPG, you can check out all the TorchRL multi-agent implementations in the\n",
        "GitHub repository.\n",
        "These are code-only scripts of many MARL sota-implementations such as the ones seen in this tutorial,\n",
        "QMIX, MADDPG, IQL, and many more!\n",
        "\n",
        "Also do remember to check out our tutorial: :doc:`/tutorials/multiagent_ppo`.\n",
        "\n",
        "Finally, you can modify the parameters of this tutorial to try many other configurations and scenarios\n",
        "to become a MARL master.\n",
        "\n",
        "[PettingZoo](https://pettingzoo.farama.org/)_ and VMAS contain many more scenarios.\n",
        "Here are a few videos of some possible scenarios you can try in VMAS.\n",
        "\n",
        ".. figure:: https://github.com/matteobettini/vmas-media/blob/main/media/vmas_scenarios_more.gif?raw=true\n",
        "   :alt: VMAS scenarios\n",
        "\n",
        "   Scenarios available in [VMAS](https://github.com/proroklab/VectorizedMultiAgentSimulator)_\n",
        "\n",
        "\n"
      ]
    }
  ],
  "metadata": {
    "kernelspec": {
      "display_name": "Python 3",
      "language": "python",
      "name": "python3"
    },
    "language_info": {
      "codemirror_mode": {
        "name": "ipython",
        "version": 3
      },
      "file_extension": ".py",
      "mimetype": "text/x-python",
      "name": "python",
      "nbconvert_exporter": "python",
      "pygments_lexer": "ipython3",
      "version": "3.8.19"
    },
    "colab": {
      "provenance": []
    }
  },
  "nbformat": 4,
  "nbformat_minor": 0
}